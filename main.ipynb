{
 "cells": [
  {
   "cell_type": "markdown",
   "id": "ef930a76",
   "metadata": {},
   "source": [
    "## Análisis de Estrategias en Piedra, Papel o Tijera\n",
    "\n",
    "Alice y Bob, participan en un torneo al mejor de 3 rondas de piedra, papel o tijera. Suponga que cada jugador tiene una estrategia conocida:\n",
    "\n",
    "    - Alice: elige piedra con probabilidad 40%, papel 30% y tijera 30%.\n",
    "    - Bob: elige piedra 20%, papel 50% y tijera 30%.\n",
    "\n",
    "### PREGUNTA 1: Calcular la probabilidad de que Alice gane el torneo"
   ]
  },
  {
   "cell_type": "code",
   "execution_count": 5,
   "id": "62a0045f",
   "metadata": {},
   "outputs": [
    {
     "name": "stdout",
     "output_type": "stream",
     "text": [
      "Resultados de los torneos (mejor de 3):\n",
      "Torneos jugados: 100000\n",
      "Alice ganó : 35506 veces\n",
      "Bob ganó : 39094 veces\n",
      "Empates : 25400 veces\n",
      "Probabilidad de ganar Alice: 0.36\n",
      "Probabilidad de ganar Bob: 0.39\n",
      "Probabilidad de empate: 0.25\n"
     ]
    }
   ],
   "source": [
    "import random as rd\n",
    "\n",
    "jugada = [\"piedra\", \"papel\", \"tijera\"]\n",
    "p_Alice1 = [0.4, 0.3, 0.3]\n",
    "p_Bob = [0.2, 0.5, 0.3]\n",
    "NUM_JUEGOS = 100000\n",
    "torneos = {\"Alice\": 0, \"Bob\": 0, \"Empate\": 0}\n",
    "\n",
    "rd.seed(2025)  \n",
    "\n",
    "\n",
    "def escoger_jugada(probabilidad):\n",
    "    return rd.choices(jugada, weights=probabilidad, k=1)[0]\n",
    "\n",
    "def ganador_ronda(jugadaP1, jugadaP2):\n",
    "    if jugadaP1 == jugadaP2:\n",
    "        return \"Empate\"\n",
    "    elif (jugadaP1 == \"piedra\" and jugadaP2 == \"tijera\") or \\\n",
    "         (jugadaP1 == \"papel\" and jugadaP2 == \"piedra\") or \\\n",
    "         (jugadaP1 == \"tijera\" and jugadaP2 == \"papel\"):\n",
    "        return \"Alice\"\n",
    "    else:\n",
    "        return \"Bob\"\n",
    "\n",
    "def jugar_torneo(estrategia):\n",
    "    puntos = {\"Alice\": 0, \"Bob\": 0}\n",
    "    for _ in range(3):\n",
    "        jugada_Alice = escoger_jugada(estrategia)\n",
    "        jugada_Bob = escoger_jugada(p_Bob)\n",
    "        ganador = ganador_ronda(jugada_Alice, jugada_Bob)\n",
    "        if ganador in puntos:\n",
    "            puntos[ganador] += 1\n",
    "        # Si empate, no suma puntos\n",
    "        if puntos[\"Alice\"] == 2 or puntos[\"Bob\"] == 2:\n",
    "            break\n",
    "    if puntos[\"Alice\"] > puntos[\"Bob\"]:\n",
    "        return \"Alice\"\n",
    "    elif puntos[\"Bob\"] > puntos[\"Alice\"]:\n",
    "        return \"Bob\"\n",
    "    else:\n",
    "        return \"Empate\"\n",
    "\n",
    "def simular_torneos():\n",
    "    for _ in range(NUM_JUEGOS):\n",
    "        ganador = jugar_torneo(p_Alice1)\n",
    "        torneos[ganador] += 1\n",
    "\n",
    "def mostrar_resultados():\n",
    "    simular_torneos()\n",
    "    print(\"Resultados de los torneos (mejor de 3):\")\n",
    "    print(f\"Torneos jugados: {NUM_JUEGOS}\")\n",
    "    print(f\"Alice ganó : {torneos['Alice']} veces\")\n",
    "    print(f\"Bob ganó : {torneos['Bob']} veces\")\n",
    "    print(f\"Empates : {torneos['Empate']} veces\")\n",
    "    print(f\"Probabilidad de ganar Alice: {torneos['Alice'] / NUM_JUEGOS :.2f}\")\n",
    "    print(f\"Probabilidad de ganar Bob: {torneos['Bob'] / NUM_JUEGOS :.2f}\")\n",
    "    print(f\"Probabilidad de empate: {torneos['Empate'] / NUM_JUEGOS :.2f}\")\n",
    "\n",
    "mostrar_resultados()\n"
   ]
  },
  {
   "cell_type": "markdown",
   "id": "62d92394",
   "metadata": {},
   "source": [
    "Supongamos ahora que Alice puede elegir entre dos estrategias:\n",
    "\n",
    "    - Estrategia 1: piedra 40%, papel 30%, tijera 30% (la original)\n",
    "\n",
    "    - Estrategia 2: piedra 20%, papel 30%, tijera 50%.\n",
    "\n",
    "### Problema 2. Determinar si existe una diferencia significativa entre ambas estrategias. Si la hay, explique a qué se debe dicha diferencia."
   ]
  },
  {
   "cell_type": "code",
   "execution_count": 4,
   "id": "f0289ed2",
   "metadata": {},
   "outputs": [
    {
     "name": "stdout",
     "output_type": "stream",
     "text": [
      "Torneos jugados: 100000\n",
      "Probabilidad de ganar Alice con estrategia 1: 0.36\n",
      "Probabilidad de ganar Alice con estrategia 2: 0.44\n",
      "\n",
      "Diferencia en probabilidad: 0.08\n"
     ]
    }
   ],
   "source": [
    "p_Alice2 = [0.2, 0.3, 0.5]  \n",
    "NUM_JUEGOS = 100000\n",
    "torneos_e2 = {\"Alice\": 0, \"Bob\": 0, \"Empate\": 0}  \n",
    "\n",
    "\n",
    "def simular_torneos():\n",
    "    for _ in range(NUM_JUEGOS):        \n",
    "        ganador_e2 = jugar_torneo(p_Alice2)\n",
    "        torneos_e2[ganador_e2] += 1\n",
    "\n",
    "def mostrar_resultados():\n",
    "    simular_torneos()\n",
    "\n",
    "    print(f\"Torneos jugados: {NUM_JUEGOS}\")\n",
    "    print(f\"Probabilidad de ganar Alice con estrategia 1: {torneos['Alice'] / NUM_JUEGOS :.2f}\")\n",
    "    print(f\"Probabilidad de ganar Alice con estrategia 2: {torneos_e2['Alice'] / NUM_JUEGOS :.2f}\")\n",
    "\n",
    "    dif = (torneos_e2['Alice'] - torneos['Alice']) / NUM_JUEGOS\n",
    "    print(f\"\\nDiferencia en probabilidad: {dif:.2f}\")\n",
    "\n",
    "mostrar_resultados()\n"
   ]
  }
 ],
 "metadata": {
  "kernelspec": {
   "display_name": "Python 3",
   "language": "python",
   "name": "python3"
  },
  "language_info": {
   "codemirror_mode": {
    "name": "ipython",
    "version": 3
   },
   "file_extension": ".py",
   "mimetype": "text/x-python",
   "name": "python",
   "nbconvert_exporter": "python",
   "pygments_lexer": "ipython3",
   "version": "3.13.3"
  }
 },
 "nbformat": 4,
 "nbformat_minor": 5
}
