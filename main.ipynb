{
 "cells": [
  {
   "cell_type": "markdown",
   "id": "ef930a76",
   "metadata": {},
   "source": [
    "## Análisis de Estrategias en Piedra, Papel o Tijera\n",
    "\n",
    "Alice y Bob, participan en un torneo al mejor de 3 rondas de piedra, papel o tijera. Suponga que cada jugador tiene una estrategia conocida:\n",
    "\n",
    "    - Alice: elige piedra con probabilidad 40%, papel 30% y tijera 30%.\n",
    "    - Bob: elige piedra 20%, papel 50% y tijera 30%.\n",
    "\n",
    "### PREGUNTA 1: Calcular la probabilidad de que Alice gane el torneo"
   ]
  },
  {
   "cell_type": "code",
   "execution_count": 98,
   "id": "62a0045f",
   "metadata": {},
   "outputs": [
    {
     "name": "stdout",
     "output_type": "stream",
     "text": [
      "Resultados de las partidas:\n",
      "Partidas jugadas: 10000\n",
      "Alice ganó : 3301 veces\n",
      "Bob ganó : 3565 veces\n",
      "Hubieron un total de empates de:  3134 \n",
      "Probabilidad de ganar Alice: 33.01%\n",
      "Probabilidad de ganar Bob: 35.65%\n"
     ]
    }
   ],
   "source": [
    "import random as rd\n",
    "\n",
    "jugada = [\"piedra\", \"papel\", \"tijera\"]\n",
    "p_Alice1 = [0.4, 0.3, 0.3]\n",
    "p_Bob = [0.2, 0.5, 0.3]\n",
    "NUM_JUGADAS = 10000\n",
    "partidas = {\"Alice\":0, \"Bob\":0, \"Empate\":0}\n",
    "\n",
    "rd.seed(2025)  \n",
    "\n",
    "def escoger_jugada(probabilidad):\n",
    "    \"\"\"\n",
    "    Elige una jugada ('piedra', 'papel' o 'tijera') según las probabilidades dadas.\n",
    "    Parámetros:\n",
    "        probabilidad (list): Lista de probabilidades para cada jugada.\n",
    "    Retorna:\n",
    "        str: Jugada seleccionada.\n",
    "    \"\"\"\n",
    "    elegida = rd.choices(jugada, weights=probabilidad, k=1)[0]\n",
    "    return elegida\n",
    "\n",
    "def escoger_ganador(jugadaP1, jugadaP2):\n",
    "    \"\"\"\n",
    "    Determina el ganador entre dos jugadas y actualiza el marcador.\n",
    "    Parámetros:\n",
    "        jugadaP1 (str): Jugada de Alice.\n",
    "        jugadaP2 (str): Jugada de Bob.\n",
    "    \"\"\"\n",
    "    if jugadaP1 == jugadaP2:\n",
    "        partidas[\"Empate\"] += 1\n",
    "    elif (jugadaP1 == \"piedra\" and jugadaP2 == \"tijera\") or \\\n",
    "         (jugadaP1 == \"papel\" and jugadaP2 == \"piedra\") or \\\n",
    "         (jugadaP1 == \"tijera\" and jugadaP2 == \"papel\"):\n",
    "        partidas[\"Alice\"] += 1\n",
    "    else:\n",
    "        partidas[\"Bob\"] += 1\n",
    "\n",
    "def jugar():\n",
    "    \"\"\"\n",
    "    Simula NUM_JUGADAS partidas entre Alice y Bob usando sus estrategias.\n",
    "    \"\"\"\n",
    "    for i in range(NUM_JUGADAS):\n",
    "        jugada_Alice = escoger_jugada(p_Alice1)\n",
    "        jugada_Bob = escoger_jugada(p_Bob)\n",
    "        escoger_ganador(jugada_Alice, jugada_Bob)\n",
    "\n",
    "def mostrar_resultados():\n",
    "    \"\"\"\n",
    "    Ejecuta la simulación y muestra los resultados de las partidas.\n",
    "    \"\"\"\n",
    "    jugar()\n",
    "    print(\"Resultados de las partidas:\")\n",
    "    print(f\"Partidas jugadas: {NUM_JUGADAS}\")\n",
    "    print(f\"Alice ganó : {partidas['Alice']} veces\")\n",
    "    print(f\"Bob ganó : {partidas['Bob']} veces\")\n",
    "    print(f\"Hubieron un total de empates de:  {partidas['Empate']} \")\n",
    "    print(f\"Probabilidad de ganar Alice: {partidas['Alice'] / NUM_JUGADAS*100}%\")\n",
    "    print(f\"Probabilidad de ganar Bob: {partidas['Bob'] / NUM_JUGADAS*100}%\")\n",
    "    \n",
    "\n",
    "mostrar_resultados()"
   ]
  },
  {
   "cell_type": "markdown",
   "id": "62d92394",
   "metadata": {},
   "source": [
    "Supongamos ahora que Alice puede elegir entre dos estrategias:\n",
    "\n",
    "    - Estrategia 1: piedra 40%, papel 30%, tijera 30% (la original)\n",
    "\n",
    "    - Estrategia 2: piedra 20%, papel 30%, tijera 50%.\n",
    "\n",
    "### Problema 2. Determinar si existe una diferencia significativa entre ambas estrategias. Si la hay, explique a qué se debe dicha diferencia."
   ]
  },
  {
   "cell_type": "code",
   "execution_count": null,
   "id": "f0289ed2",
   "metadata": {},
   "outputs": [],
   "source": [
    "p_Alice2 = [0.2, 0.3, 0.5]"
   ]
  }
 ],
 "metadata": {
  "kernelspec": {
   "display_name": "Python 3",
   "language": "python",
   "name": "python3"
  },
  "language_info": {
   "codemirror_mode": {
    "name": "ipython",
    "version": 3
   },
   "file_extension": ".py",
   "mimetype": "text/x-python",
   "name": "python",
   "nbconvert_exporter": "python",
   "pygments_lexer": "ipython3",
   "version": "3.12.4"
  }
 },
 "nbformat": 4,
 "nbformat_minor": 5
}
