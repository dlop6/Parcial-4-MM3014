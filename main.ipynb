{
 "cells": [
  {
   "cell_type": "markdown",
   "id": "ef930a76",
   "metadata": {},
   "source": [
    "## Análisis de Estrategias en Piedra, Papel o Tijera\n",
    "\n",
    "Alice y Bob, participan en un torneo al mejor de 3 rondas de piedra, papel o tijera. Suponga que cada jugador tiene una estrategia conocida:\n",
    "\n",
    "    - Alice: elige piedra con probabilidad 40%, papel 30% y tijera 30%.\n",
    "    - Bob: elige piedra 20%, papel 50% y tijera 30%.\n",
    "\n",
    "### PREGUNTA 1: Calcular la probabilidad de que Alice gane el torneo"
   ]
  }
 ],
 "metadata": {
  "language_info": {
   "name": "python"
  }
 },
 "nbformat": 4,
 "nbformat_minor": 5
}
